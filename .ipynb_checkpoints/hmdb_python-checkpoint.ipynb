{
 "cells": [
  {
   "cell_type": "code",
   "execution_count": 7,
   "id": "22dafe87",
   "metadata": {},
   "outputs": [],
   "source": [
    "# calling module for using mysql with Python\n",
    "import pymysql\n",
    "\n",
    "# calling db\n",
    "hm_db = pymysql.connect(\n",
    "   user = 'root',  #user name\n",
    "   passwd = '1234', #password\n",
    "   host = '127.0.0.1', #host address\n",
    "   db = 'hmdb', #name of db\n",
    "   charset = 'utf8' #using utf8 since we use Korean\n",
    ")"
   ]
  },
  {
   "cell_type": "code",
   "execution_count": 2,
   "id": "09036419",
   "metadata": {},
   "outputs": [
    {
     "name": "stdout",
     "output_type": "stream",
     "text": [
      "((74022,),)\n"
     ]
    }
   ],
   "source": [
    "# creating cursor for interacting with connected DB\n",
    "cursor = hm_db.cursor()\n",
    "\n",
    "sql_01 = \"select P.product_id from product as P where P.price > 35000 and product_id in (select I.product_id from item_cart as I where I.quantity > 2);\"\n",
    "cursor.execute(sql_01)\n",
    "result_01 = cursor.fetchall()\n",
    "print(result_01)"
   ]
  },
  {
   "cell_type": "code",
   "execution_count": 3,
   "id": "5ba6711a",
   "metadata": {},
   "outputs": [
    {
     "name": "stdout",
     "output_type": "stream",
     "text": [
      "(('호현호',),)\n"
     ]
    }
   ],
   "source": [
    "cursor = hm_db.cursor()\n",
    "sql_02 = \"select U.name  from user as U where U.gender = 'M' and U.user_id = (select I.user_id from item_cart as I where I.product_id = '372');\"\n",
    "cursor.execute(sql_02)\n",
    "result_02 = cursor.fetchall()\n",
    "print(result_02)"
   ]
  },
  {
   "cell_type": "code",
   "execution_count": 4,
   "id": "dae73df8",
   "metadata": {},
   "outputs": [
    {
     "name": "stdout",
     "output_type": "stream",
     "text": [
      "((372, 'black wallet', 100000, 'wallets', 'for business men', 'W384248'), (34892, 'students bag', 40000, 'bags', 'for students', 'B939309'), (45924, 'red shoes', 30000, 'shoes', 'for women', 'K898290'), (74022, 'micky mouse hoodie', 60000, 'hoodies', 'disney merch', 'H383024'), (88392, 'khaki shorts', 20000, 'shorts', 'military style', 'S839329'))\n"
     ]
    }
   ],
   "source": [
    "cursor = hm_db.cursor()\n",
    "sql_03 = \"select * from product where not exists (select product_id from product where price > 1000000000);\"\n",
    "cursor.execute(sql_03)\n",
    "result_03 = cursor.fetchall()\n",
    "print(result_03)"
   ]
  },
  {
   "cell_type": "code",
   "execution_count": 5,
   "id": "1f06b825",
   "metadata": {},
   "outputs": [
    {
     "name": "stdout",
     "output_type": "stream",
     "text": [
      "((372, 'black wallet', 100000, 'wallets', 'for business men', 'W384248'), (34892, 'students bag', 40000, 'bags', 'for students', 'B939309'), (45924, 'red shoes', 30000, 'shoes', 'for women', 'K898290'), (74022, 'micky mouse hoodie', 60000, 'hoodies', 'disney merch', 'H383024'), (88392, 'khaki shorts', 20000, 'shorts', 'military style', 'S839329'))\n"
     ]
    }
   ],
   "source": [
    "cursor = hm_db.cursor()\n",
    "sql_04 = \"select * from product where exists (select * from discount where discount_percent > 50);\"\n",
    "cursor.execute(sql_04)\n",
    "result_04 = cursor.fetchall()\n",
    "print(result_04)"
   ]
  },
  {
   "cell_type": "code",
   "execution_count": 10,
   "id": "31d21040",
   "metadata": {},
   "outputs": [
    {
     "name": "stdout",
     "output_type": "stream",
     "text": [
      "((7,),)\n"
     ]
    }
   ],
   "source": [
    "# executing procedure\n",
    "cursor = hm_db.cursor()\n",
    "cursor.callproc('sum_of_user')\n",
    "result_05 = cursor.fetchall()\n",
    "print(result_05)"
   ]
  },
  {
   "cell_type": "code",
   "execution_count": 9,
   "id": "b7a18e28",
   "metadata": {},
   "outputs": [
    {
     "name": "stdout",
     "output_type": "stream",
     "text": [
      "((1, 'hhshin', '신현호', 'M', '경기도 수원시 영통구', '01000000000'), (2, 'gunnoo', '이건우', 'M', '서울특별시 마포구', '01000000001'), (3, 'Kindess', '박친절', 'F', '대구광역시 달성구', '01000000011'), (4, 'James98', '호현호', 'M', '서울특별시 중구', '01000000111'), (5, 'hello02', '우건우', 'M', '서울특별시 성북구', '01011000000'), (6, 'gugu', 'Jame', 'F', '수원시 영통구', '0104880778000'), (7, 'hihi', 'Lisa', 'F', '서울시 성북구', '821048807780'))\n"
     ]
    }
   ],
   "source": [
    "# executing function\n",
    "cursor = hm_db.cursor()\n",
    "func = \"select insert_user(%s,%s,%s,%s,%s)\"\n",
    "result_06 = cursor.execute(func, ('hihi','Lisa','F','서울시 성북구','821048807780'))\n",
    "result_06 = cursor.fetchall()\n",
    "sql_07 = cursor.execute(\"select * from User;\")\n",
    "result_07 = cursor.fetchall()\n",
    "print(result_07)"
   ]
  },
  {
   "cell_type": "code",
   "execution_count": 11,
   "id": "fd31da1a",
   "metadata": {},
   "outputs": [
    {
     "data": {
      "text/plain": [
       "((372, 'black wallet', 100000, 'wallets', 'for business men', 'W384248'),\n",
       " (382, 'blue_jacket', 49000, 'jackets', 'for men', 'JK102476'),\n",
       " (34892, 'students bag', 40000, 'bags', 'for students', 'B939309'),\n",
       " (45924, 'red shoes', 30000, 'shoes', 'for women', 'K898290'),\n",
       " (74022, 'micky mouse hoodie', 60000, 'hoodies', 'disney merch', 'H383024'),\n",
       " (88392, 'khaki shorts', 20000, 'shorts', 'military style', 'S839329'))"
      ]
     },
     "execution_count": 11,
     "metadata": {},
     "output_type": "execute_result"
    }
   ],
   "source": [
    "# 신상품 추가\n",
    "cursor = hm_db.cursor()\n",
    "sql = \"insert into product values(%s,%s,%s,%s,%s,%s)\"\n",
    "values = (382,'blue_jacket',49000,'jackets','for men','JK102476')\n",
    "cursor.execute(sql,values)\n",
    "hm_db.commit()\n",
    "cursor.fetchall()\n",
    "\n",
    "#상품 열람\n",
    "cursor = hm_db.cursor()\n",
    "sql = \"select * from product;\"\n",
    "cursor.execute(sql)\n",
    "cursor.fetchall()"
   ]
  },
  {
   "cell_type": "code",
   "execution_count": 12,
   "id": "9b4fe9ab",
   "metadata": {},
   "outputs": [
    {
     "data": {
      "text/plain": [
       "((200, 1, 45924, 1),\n",
       " (210, 2, 34892, 2),\n",
       " (220, 3, 88392, 3),\n",
       " (230, 2, 372, 4),\n",
       " (240, 7, 74022, 5),\n",
       " (255, 1, 382, 1))"
      ]
     },
     "execution_count": 12,
     "metadata": {},
     "output_type": "execute_result"
    }
   ],
   "source": [
    "# 장바구니 담기\n",
    "cursor = hm_db.cursor()\n",
    "sql = \"insert into item_cart values(%s, %s, %s,%s)\"\n",
    "values = (255,1,382,1)\n",
    "cursor.execute(sql,values)\n",
    "hm_db.commit()\n",
    "cursor.fetchall()\n",
    "\n",
    "# 장바구니 열람\n",
    "cursor = hm_db.cursor()\n",
    "sql = \"select * from item_cart\"\n",
    "cursor.execute(sql)\n",
    "cursor.fetchall()"
   ]
  },
  {
   "cell_type": "code",
   "execution_count": 13,
   "id": "042a52cc",
   "metadata": {},
   "outputs": [
    {
     "data": {
      "text/plain": [
       "((200, 1, 45924, 1),\n",
       " (220, 3, 88392, 3),\n",
       " (230, 2, 372, 4),\n",
       " (240, 7, 74022, 5),\n",
       " (255, 1, 382, 1))"
      ]
     },
     "execution_count": 13,
     "metadata": {},
     "output_type": "execute_result"
    }
   ],
   "source": [
    "# 상품 제거\n",
    "cursor = hm_db.cursor()\n",
    "sql = \"delete from item_cart where product_id = %s\" % (34892)\n",
    "cursor.execute(sql)\n",
    "cursor.fetchall\n",
    "\n",
    "# 장바구니 열람\n",
    "cursor = hm_db.cursor()\n",
    "sql = \"select * from item_cart\"\n",
    "cursor.execute(sql)\n",
    "cursor.fetchall()"
   ]
  },
  {
   "cell_type": "code",
   "execution_count": 14,
   "id": "2633ad2b",
   "metadata": {},
   "outputs": [
    {
     "data": {
      "text/plain": [
       "((200, 1, 45924, 1),\n",
       " (220, 3, 88392, 3),\n",
       " (230, 2, 372, 4),\n",
       " (240, 7, 74022, 5),\n",
       " (255, 3, 382, 1))"
      ]
     },
     "execution_count": 14,
     "metadata": {},
     "output_type": "execute_result"
    }
   ],
   "source": [
    "# 수량 변경\n",
    "cursor = hm_db.cursor()\n",
    "sql = \"update item_cart set quantity= %s where product_id = %s;\" % (3, 382)\n",
    "cursor.execute(sql)\n",
    "cursor.fetchall()\n",
    "\n",
    "# 장바구니 열람\n",
    "cursor = hm_db.cursor()\n",
    "sql = \"select * from item_cart\"\n",
    "cursor.execute(sql)\n",
    "cursor.fetchall()"
   ]
  },
  {
   "cell_type": "code",
   "execution_count": 15,
   "id": "4408556a",
   "metadata": {},
   "outputs": [
    {
     "data": {
      "text/plain": [
       "((8787, 382, 147000, 1, 7676),)"
      ]
     },
     "execution_count": 15,
     "metadata": {},
     "output_type": "execute_result"
    }
   ],
   "source": [
    "# order_items\n",
    "cursor = hm_db.cursor()\n",
    "sql = \"insert into order_items values(%s,%s);\" % (7676,382)\n",
    "cursor.execute(sql)\n",
    "hm_db.commit()\n",
    "cursor.fetchall()\n",
    "\n",
    "# order_details 작성\n",
    "cursor = hm_db.cursor()\n",
    "sql = \"insert into order_details values(%s,%s,%s,%s,%s)\" % (8787, 382, 49000*3, 1, 7676)\n",
    "cursor.execute(sql)\n",
    "hm_db.commit()\n",
    "cursor.fetchall()\n",
    "\n",
    "# order detail 열람\n",
    "cursor = hm_db.cursor()\n",
    "sql = \"select * from order_details\"\n",
    "cursor.execute(sql)\n",
    "cursor.fetchall()"
   ]
  },
  {
   "cell_type": "code",
   "execution_count": 16,
   "id": "a7dccc87",
   "metadata": {},
   "outputs": [
    {
     "data": {
      "text/plain": [
       "((3535, 3, 'HM', 'paid', 'KR00', 8787),)"
      ]
     },
     "execution_count": 16,
     "metadata": {},
     "output_type": "execute_result"
    }
   ],
   "source": [
    "# payment_details 작성\n",
    "cursor = hm_db.cursor()\n",
    "sql = \"Insert into payment_details values(3535,3,'HM','paid','KR00',8787)\"\n",
    "cursor.execute(sql)\n",
    "hm_db.commit()\n",
    "cursor.fetchall()\n",
    "\n",
    "# payment_details 열람\n",
    "cursor = hm_db.cursor()\n",
    "sql = \"select * from payment_details\"\n",
    "cursor.execute(sql)\n",
    "hm_db.commit()\n",
    "cursor.fetchall()"
   ]
  },
  {
   "cell_type": "code",
   "execution_count": null,
   "id": "a3d07f4f",
   "metadata": {},
   "outputs": [],
   "source": []
  },
  {
   "cell_type": "code",
   "execution_count": null,
   "id": "403133fb",
   "metadata": {},
   "outputs": [],
   "source": []
  }
 ],
 "metadata": {
  "kernelspec": {
   "display_name": "Python 3",
   "language": "python",
   "name": "python3"
  },
  "language_info": {
   "codemirror_mode": {
    "name": "ipython",
    "version": 3
   },
   "file_extension": ".py",
   "mimetype": "text/x-python",
   "name": "python",
   "nbconvert_exporter": "python",
   "pygments_lexer": "ipython3",
   "version": "3.8.8"
  }
 },
 "nbformat": 4,
 "nbformat_minor": 5
}
